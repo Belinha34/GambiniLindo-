{
  "nbformat": 4,
  "nbformat_minor": 0,
  "metadata": {
    "colab": {
      "provenance": [],
      "authorship_tag": "ABX9TyMApl0UF/S4yOlYAd3qRCJn",
      "include_colab_link": true
    },
    "kernelspec": {
      "name": "python3",
      "display_name": "Python 3"
    },
    "language_info": {
      "name": "python"
    }
  },
  "cells": [
    {
      "cell_type": "markdown",
      "metadata": {
        "id": "view-in-github",
        "colab_type": "text"
      },
      "source": [
        "<a href=\"https://colab.research.google.com/github/Belinha34/GambiniLindo-/blob/main/Untitled1.ipynb\" target=\"_parent\"><img src=\"https://colab.research.google.com/assets/colab-badge.svg\" alt=\"Open In Colab\"/></a>"
      ]
    },
    {
      "cell_type": "code",
      "execution_count": 1,
      "metadata": {
        "colab": {
          "base_uri": "https://localhost:8080/"
        },
        "id": "ni3Q_Q2RLgvt",
        "outputId": "694351a1-a21d-4713-ddf0-7be6724d65db"
      },
      "outputs": [
        {
          "output_type": "stream",
          "name": "stdout",
          "text": [
            "Digite o valor da base:5\n",
            "Digite do valor da altura:4\n",
            "10.0\n"
          ]
        }
      ],
      "source": [
        "b = float(input(\"Digite o valor da base:\"))\n",
        "h = float(input(\"Digite do valor da altura:\"))\n",
        "\n",
        "a=b*h/2.0\n",
        "\n",
        "print(a)"
      ]
    }
  ]
}