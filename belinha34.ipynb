{
  "nbformat": 4,
  "nbformat_minor": 0,
  "metadata": {
    "colab": {
      "provenance": [],
      "authorship_tag": "ABX9TyMzr382MRES3AD09+d8QDXx",
      "include_colab_link": true
    },
    "kernelspec": {
      "name": "python3",
      "display_name": "Python 3"
    },
    "language_info": {
      "name": "python"
    }
  },
  "cells": [
    {
      "cell_type": "markdown",
      "metadata": {
        "id": "view-in-github",
        "colab_type": "text"
      },
      "source": [
        "<a href=\"https://colab.research.google.com/github/Belinha34/GambiniLindo-/blob/main/belinha34.ipynb\" target=\"_parent\"><img src=\"https://colab.research.google.com/assets/colab-badge.svg\" alt=\"Open In Colab\"/></a>"
      ]
    },
    {
      "cell_type": "code",
      "execution_count": 5,
      "metadata": {
        "colab": {
          "base_uri": "https://localhost:8080/"
        },
        "id": "x9LgZFyX--hJ",
        "outputId": "05891cfe-b5f7-4186-dd8d-f911b4718260"
      },
      "outputs": [
        {
          "output_type": "stream",
          "name": "stdout",
          "text": [
            "<class 'int'>\n",
            "<class 'int'>\n",
            "<class 'int'>\n",
            "6\n"
          ]
        }
      ],
      "source": [
        "#importancia de dois tipos de variaveis\n",
        "a = 3\n",
        "print(type(a))\n",
        "b = 3\n",
        "print(type(b))\n",
        "soma = a + b\n",
        "print(type(soma))\n",
        "print(soma)\n"
      ]
    },
    {
      "cell_type": "markdown",
      "source": [
        "#lembrar que sembre quiser calcular é preciso informar que estou lidando com nº int ou float\n",
        "\n"
      ],
      "metadata": {
        "id": "XFOViAUAI_Ai"
      }
    },
    {
      "cell_type": "code",
      "source": [],
      "metadata": {
        "id": "IazITcBL_MBK"
      },
      "execution_count": null,
      "outputs": []
    }
  ]
}